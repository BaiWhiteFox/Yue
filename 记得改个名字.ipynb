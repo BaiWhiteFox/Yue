{
 "cells": [
  {
   "cell_type": "markdown",
   "id": "6f10e6bd",
   "metadata": {},
   "source": [
    "培养自己能力要养成习惯，不应去搜答案，可查找所需函数或方法。\n",
    "\n",
    "提交日期：2022-10-14日前\n",
    "作业提交方式：学习通上传\n",
    "以姓名、学号命名\n"
   ]
  },
  {
   "cell_type": "markdown",
   "id": "c065b67b",
   "metadata": {},
   "source": [
    "# <center>基础知识练习<center>"
   ]
  },
  {
   "cell_type": "markdown",
   "id": "def4b2e1",
   "metadata": {},
   "source": [
    "## （1）定义一个元组t1=(1,2,'R','py','Matlab')和一个空列表"
   ]
  },
  {
   "cell_type": "code",
   "execution_count": 9,
   "id": "21ab5b84",
   "metadata": {
    "scrolled": true
   },
   "outputs": [
    {
     "name": "stdout",
     "output_type": "stream",
     "text": [
      "(1, 2, 'R', 'py', 'Matlab')\n",
      "[]\n"
     ]
    }
   ],
   "source": [
    "t1=(1,2,'R','py','Matlab')\n",
    "list1=[]\n",
    "print(t1)\n",
    "print(list1)"
   ]
  },
  {
   "cell_type": "markdown",
   "id": "5a196c31",
   "metadata": {},
   "source": [
    "## （2）向list1中添加t1的元素"
   ]
  },
  {
   "cell_type": "code",
   "execution_count": 10,
   "id": "3411c1c2",
   "metadata": {
    "scrolled": true
   },
   "outputs": [
    {
     "name": "stdout",
     "output_type": "stream",
     "text": [
      "[1, 2, 'R', 'py', 'Matlab']\n"
     ]
    }
   ],
   "source": [
    "t = 0\n",
    "while t<len(t1):\n",
    "    list1.append(t1[t]) #代码补充完整\n",
    "    t=t+1\n",
    "print(list1)"
   ]
  },
  {
   "cell_type": "markdown",
   "id": "073898d8",
   "metadata": {},
   "source": [
    "# <center>Pandas练习<center>"
   ]
  },
  {
   "cell_type": "markdown",
   "id": "6ce978de",
   "metadata": {},
   "source": [
    "## 要求：读取文件test.xlxs数据并用一个数据框变量df来保存，并显示前10行"
   ]
  },
  {
   "cell_type": "code",
   "execution_count": 11,
   "id": "37e12469",
   "metadata": {},
   "outputs": [
    {
     "data": {
      "text/html": [
       "<div>\n",
       "<style scoped>\n",
       "    .dataframe tbody tr th:only-of-type {\n",
       "        vertical-align: middle;\n",
       "    }\n",
       "\n",
       "    .dataframe tbody tr th {\n",
       "        vertical-align: top;\n",
       "    }\n",
       "\n",
       "    .dataframe thead th {\n",
       "        text-align: right;\n",
       "    }\n",
       "</style>\n",
       "<table border=\"1\" class=\"dataframe\">\n",
       "  <thead>\n",
       "    <tr style=\"text-align: right;\">\n",
       "      <th></th>\n",
       "      <th>股票代码</th>\n",
       "      <th>交易日期</th>\n",
       "      <th>收盘价</th>\n",
       "      <th>交易量</th>\n",
       "    </tr>\n",
       "  </thead>\n",
       "  <tbody>\n",
       "    <tr>\n",
       "      <th>0</th>\n",
       "      <td>600000</td>\n",
       "      <td>2017-01-03</td>\n",
       "      <td>16.30</td>\n",
       "      <td>16237125</td>\n",
       "    </tr>\n",
       "    <tr>\n",
       "      <th>1</th>\n",
       "      <td>600000</td>\n",
       "      <td>2017-01-04</td>\n",
       "      <td>16.33</td>\n",
       "      <td>29658734</td>\n",
       "    </tr>\n",
       "    <tr>\n",
       "      <th>2</th>\n",
       "      <td>600000</td>\n",
       "      <td>2017-01-05</td>\n",
       "      <td>16.30</td>\n",
       "      <td>26437646</td>\n",
       "    </tr>\n",
       "    <tr>\n",
       "      <th>3</th>\n",
       "      <td>600000</td>\n",
       "      <td>2017-01-06</td>\n",
       "      <td>16.18</td>\n",
       "      <td>17195598</td>\n",
       "    </tr>\n",
       "    <tr>\n",
       "      <th>4</th>\n",
       "      <td>600000</td>\n",
       "      <td>2017-01-09</td>\n",
       "      <td>16.20</td>\n",
       "      <td>14908745</td>\n",
       "    </tr>\n",
       "    <tr>\n",
       "      <th>5</th>\n",
       "      <td>600000</td>\n",
       "      <td>2017-01-10</td>\n",
       "      <td>16.19</td>\n",
       "      <td>7996756</td>\n",
       "    </tr>\n",
       "    <tr>\n",
       "      <th>6</th>\n",
       "      <td>600000</td>\n",
       "      <td>2017-01-11</td>\n",
       "      <td>16.16</td>\n",
       "      <td>9193332</td>\n",
       "    </tr>\n",
       "    <tr>\n",
       "      <th>7</th>\n",
       "      <td>600000</td>\n",
       "      <td>2017-01-12</td>\n",
       "      <td>16.12</td>\n",
       "      <td>8296150</td>\n",
       "    </tr>\n",
       "    <tr>\n",
       "      <th>8</th>\n",
       "      <td>600000</td>\n",
       "      <td>2017-01-13</td>\n",
       "      <td>16.27</td>\n",
       "      <td>19034143</td>\n",
       "    </tr>\n",
       "    <tr>\n",
       "      <th>9</th>\n",
       "      <td>600000</td>\n",
       "      <td>2017-01-16</td>\n",
       "      <td>16.56</td>\n",
       "      <td>53304724</td>\n",
       "    </tr>\n",
       "  </tbody>\n",
       "</table>\n",
       "</div>"
      ],
      "text/plain": [
       "     股票代码       交易日期    收盘价       交易量\n",
       "0  600000 2017-01-03  16.30  16237125\n",
       "1  600000 2017-01-04  16.33  29658734\n",
       "2  600000 2017-01-05  16.30  26437646\n",
       "3  600000 2017-01-06  16.18  17195598\n",
       "4  600000 2017-01-09  16.20  14908745\n",
       "5  600000 2017-01-10  16.19   7996756\n",
       "6  600000 2017-01-11  16.16   9193332\n",
       "7  600000 2017-01-12  16.12   8296150\n",
       "8  600000 2017-01-13  16.27  19034143\n",
       "9  600000 2017-01-16  16.56  53304724"
      ]
     },
     "execution_count": 11,
     "metadata": {},
     "output_type": "execute_result"
    }
   ],
   "source": [
    "import pandas as pd\n",
    "#读取数据\n",
    "df = pd.read_excel('D:/Hanyu/金融挖掘/test2.xlsx')\n",
    "df.head(10)"
   ]
  },
  {
   "cell_type": "markdown",
   "id": "9350c577",
   "metadata": {},
   "source": [
    "## 对df第3、4列进行切片，切片后为一个新的数据框记为df1"
   ]
  },
  {
   "cell_type": "code",
   "execution_count": 12,
   "id": "70a5c48a",
   "metadata": {},
   "outputs": [
    {
     "data": {
      "text/html": [
       "<div>\n",
       "<style scoped>\n",
       "    .dataframe tbody tr th:only-of-type {\n",
       "        vertical-align: middle;\n",
       "    }\n",
       "\n",
       "    .dataframe tbody tr th {\n",
       "        vertical-align: top;\n",
       "    }\n",
       "\n",
       "    .dataframe thead th {\n",
       "        text-align: right;\n",
       "    }\n",
       "</style>\n",
       "<table border=\"1\" class=\"dataframe\">\n",
       "  <thead>\n",
       "    <tr style=\"text-align: right;\">\n",
       "      <th></th>\n",
       "      <th>收盘价</th>\n",
       "      <th>交易量</th>\n",
       "    </tr>\n",
       "  </thead>\n",
       "  <tbody>\n",
       "    <tr>\n",
       "      <th>0</th>\n",
       "      <td>16.30</td>\n",
       "      <td>16237125</td>\n",
       "    </tr>\n",
       "    <tr>\n",
       "      <th>1</th>\n",
       "      <td>16.33</td>\n",
       "      <td>29658734</td>\n",
       "    </tr>\n",
       "    <tr>\n",
       "      <th>2</th>\n",
       "      <td>16.30</td>\n",
       "      <td>26437646</td>\n",
       "    </tr>\n",
       "    <tr>\n",
       "      <th>3</th>\n",
       "      <td>16.18</td>\n",
       "      <td>17195598</td>\n",
       "    </tr>\n",
       "    <tr>\n",
       "      <th>4</th>\n",
       "      <td>16.20</td>\n",
       "      <td>14908745</td>\n",
       "    </tr>\n",
       "    <tr>\n",
       "      <th>5</th>\n",
       "      <td>16.19</td>\n",
       "      <td>7996756</td>\n",
       "    </tr>\n",
       "    <tr>\n",
       "      <th>6</th>\n",
       "      <td>16.16</td>\n",
       "      <td>9193332</td>\n",
       "    </tr>\n",
       "    <tr>\n",
       "      <th>7</th>\n",
       "      <td>16.12</td>\n",
       "      <td>8296150</td>\n",
       "    </tr>\n",
       "    <tr>\n",
       "      <th>8</th>\n",
       "      <td>16.27</td>\n",
       "      <td>19034143</td>\n",
       "    </tr>\n",
       "    <tr>\n",
       "      <th>9</th>\n",
       "      <td>16.56</td>\n",
       "      <td>53304724</td>\n",
       "    </tr>\n",
       "  </tbody>\n",
       "</table>\n",
       "</div>"
      ],
      "text/plain": [
       "     收盘价       交易量\n",
       "0  16.30  16237125\n",
       "1  16.33  29658734\n",
       "2  16.30  26437646\n",
       "3  16.18  17195598\n",
       "4  16.20  14908745\n",
       "5  16.19   7996756\n",
       "6  16.16   9193332\n",
       "7  16.12   8296150\n",
       "8  16.27  19034143\n",
       "9  16.56  53304724"
      ]
     },
     "execution_count": 12,
     "metadata": {},
     "output_type": "execute_result"
    }
   ],
   "source": [
    "df1=df.loc[:,['收盘价','交易量']]#或者df.iloc[:,[2,3]]\n",
    "df1.head(10)"
   ]
  },
  {
   "cell_type": "markdown",
   "id": "2de0f22f",
   "metadata": {},
   "source": [
    "## 基于df第2列，构造一个逻辑数组TF，即满足交易日期小于等于2017-01-16且大于等于2017-01-05为真，否则为假。"
   ]
  },
  {
   "cell_type": "code",
   "execution_count": 13,
   "id": "c5c60ef8",
   "metadata": {},
   "outputs": [
    {
     "data": {
      "text/plain": [
       "0     False\n",
       "1     False\n",
       "2      True\n",
       "3      True\n",
       "4      True\n",
       "5      True\n",
       "6      True\n",
       "7      True\n",
       "8      True\n",
       "9      True\n",
       "10    False\n",
       "11    False\n",
       "12    False\n",
       "13    False\n",
       "Name: 交易日期, dtype: bool"
      ]
     },
     "execution_count": 13,
     "metadata": {},
     "output_type": "execute_result"
    }
   ],
   "source": [
    "import datetime as dt\n",
    "# 引入日期模块\n",
    "\n",
    "# 转换交易日期字段类型\n",
    "df['交易日期'] = pd.to_datetime(df['交易日期'])\n",
    "\n",
    "# 开始日期\n",
    "st_date = pd.datetime(2017,1,5)\n",
    "# 结束日期\n",
    "nd_date = pd.datetime(2017,1,16)\n",
    "\n",
    "# 筛选数据\n",
    "TF=(df['交易日期'] >= st_date) &(df['交易日期'] <= nd_date)\n",
    "TF"
   ]
  },
  {
   "cell_type": "code",
   "execution_count": null,
   "id": "51e43537",
   "metadata": {},
   "outputs": [],
   "source": [
    "S=df.loc[TF,'交易量'].sum()\n",
    "S"
   ]
  }
 ],
 "metadata": {
  "kernelspec": {
   "display_name": "Python 3 (ipykernel)",
   "language": "python",
   "name": "python3"
  },
  "language_info": {
   "codemirror_mode": {
    "name": "ipython",
    "version": 3
   },
   "file_extension": ".py",
   "mimetype": "text/x-python",
   "name": "python",
   "nbconvert_exporter": "python",
   "pygments_lexer": "ipython3",
   "version": "3.10.7"
  }
 },
 "nbformat": 4,
 "nbformat_minor": 5
}
